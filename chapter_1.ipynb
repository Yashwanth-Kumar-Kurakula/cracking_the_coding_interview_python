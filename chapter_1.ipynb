{
 "cells": [
  {
   "cell_type": "markdown",
   "metadata": {},
   "source": [
    "# 1.1 Is Unique\n",
    "**Implement an algorithm to determine if a string has all unique characters.**"
   ]
  },
  {
   "cell_type": "code",
   "execution_count": null,
   "metadata": {},
   "outputs": [],
   "source": [
    "word = [letter for letter in input()]\n",
    "word_set = set(word)\n",
    "\n",
    "if len(word) == len(word_set):\n",
    "    print(\"True\")\n",
    "else:\n",
    "    print(\"False\")"
   ]
  },
  {
   "cell_type": "markdown",
   "metadata": {},
   "source": [
    "# 1.2 Check Permutation\n",
    "**Given two strings, write a method to decide if one is a permutation of the other**"
   ]
  },
  {
   "cell_type": "code",
   "execution_count": null,
   "metadata": {},
   "outputs": [],
   "source": [
    "def permutation(a:str, b: str) -> bool:\n",
    "    temp = [0] * 128\n",
    "\n",
    "    for char in a:\n",
    "        temp[ord(char)] += 1\n",
    "\n",
    "    for char in b:\n",
    "        temp[ord(char)] -= 1\n",
    "        if temp[ord(char)] < 0:\n",
    "            return False\n",
    "\n",
    "    return True\n",
    "\n",
    "a = input()\n",
    "b = input()\n",
    "print(permutation(a,b))"
   ]
  },
  {
   "cell_type": "markdown",
   "metadata": {},
   "source": [
    "# 1.3 URLify\n",
    "**Write a method to replace all spaces in a string with '%20'. You may assume that the string has sufficient space at the end to hold the addiional characters, and that you are given the \"true\" length of the string.**\n",
    "\n",
    "EXAMPLE:\\\n",
    "Input: \"Mr John Smith&nbsp;&nbsp;&nbsp;&nbsp;&nbsp;&nbsp;&nbsp;&nbsp;&nbsp;&nbsp;&nbsp;&nbsp;\"\\\n",
    "Output: \"Mr%20John%20Smith\"\n"
   ]
  },
  {
   "cell_type": "code",
   "execution_count": null,
   "metadata": {},
   "outputs": [],
   "source": [
    "x = input().strip().split()\n",
    "print(\"%20\".join(x))"
   ]
  },
  {
   "cell_type": "markdown",
   "metadata": {},
   "source": [
    "# 1.4 Palindrome Permutation\n",
    "**Given a string, write a function to check if it is a permutation of a palindrome. A Palindrome is a word or phrase that is the same forwards and backwards. A permuttion is a rearrangement of letters. The Palindrome does not need to be limited to just a dictionary words.**\n",
    "\n",
    "EXAMPLE:\\\n",
    "Tact Coa is a palindrome of taco cat"
   ]
  },
  {
   "cell_type": "code",
   "execution_count": null,
   "metadata": {},
   "outputs": [],
   "source": [
    "#Remove spaces and convert to lowercase\n",
    "x = \"\".join([i.lower() for i in input().strip() if i.isalnum()])\n",
    "\n",
    "char_count = {}\n",
    "odd_count = 0\n",
    "\n",
    "for char in x:\n",
    "    char_count[char] = char_count.get(char, 0) + 1\n",
    "\n",
    "for count in char_count.values():\n",
    "    if count%2!=0:\n",
    "        odd_count += 1\n",
    "\n",
    "#A Palindrome permutation can have at most one character with odd count\n",
    "if odd_count <= 1:\n",
    "    print(\"It is a Permutation of a palindrome\")\n",
    "else:\n",
    "    print(\"It is not a palindrome permutation\")"
   ]
  },
  {
   "cell_type": "markdown",
   "metadata": {},
   "source": [
    "# 1.5 One Away\n",
    "**There are three types of edits that can be performed on strings: insert a character, remove a character, or replace a character. Given two strings, write a function to check if they are one edit (or zero edits) away.**\n",
    "\n",
    "EXAMPLE\\\n",
    "pale, ple -> True\\\n",
    "pales, pale -> True\\\n",
    "pale, bale -> True\\\n",
    "pale, bake -> False\n"
   ]
  },
  {
   "cell_type": "code",
   "execution_count": null,
   "metadata": {},
   "outputs": [],
   "source": [
    "a = [i.lower() for i in input() if i.isalnum()]\n",
    "b = [j.lower() for j in input() if j.isalnum()]\n",
    "\n",
    "temp = set(a).difference(set(b))\n",
    "\n",
    "if len(temp) < 2:\n",
    "    print(\"True\")\n",
    "else:\n",
    "    print(\"False\")\n"
   ]
  },
  {
   "cell_type": "markdown",
   "metadata": {},
   "source": [
    "# 1.6 String Compression\n",
    "**Implement a method to perform basic string compression using the counts of repeated characters. For example, the string aabcccccaaa would become a2b1c5a3. If the \"compressed\" string would not become smaller than the original string, your method should return the original string. You can assume the string has only uppercase and lowercase letters.**\n"
   ]
  },
  {
   "cell_type": "code",
   "execution_count": null,
   "metadata": {},
   "outputs": [],
   "source": [
    "word = input().strip()\n",
    "\n",
    "if not word: #checking if the input is not null\n",
    "    print(\"Invalid Input\")\n",
    "\n",
    "else:\n",
    "    compressed = []\n",
    "    count = 1\n",
    "    current_char = word[0]\n",
    "    for char in word[1:]:\n",
    "        if char == current_char:\n",
    "            count += 1\n",
    "\n",
    "        else:\n",
    "            compressed.append(current_char + str(count))\n",
    "            count = 1\n",
    "            current_char = char\n",
    "    \n",
    "    compressed.append(current_char + str(count))\n",
    "\n",
    "    print(\"\".join(compressed))\n"
   ]
  },
  {
   "cell_type": "markdown",
   "metadata": {},
   "source": [
    "# 1.7 Rotate Matrix\n",
    "**Given an image represented by an NxM matrix, where each pixel in the image is 4 bytes, write a method to rotate the image by 90 degrees. Can you do this in place?**"
   ]
  },
  {
   "cell_type": "code",
   "execution_count": null,
   "metadata": {},
   "outputs": [],
   "source": [
    "def rotate_matrix(matrix):\n",
    "    if not matrix or not matrix[0]:\n",
    "        return\n",
    "\n",
    "    N = len(matrix)\n",
    "    M = len(matrix[0])\n",
    "\n",
    "    # Step 1: Transpose the matrix\n",
    "    for i in range(N):\n",
    "        for j in range(i, M):\n",
    "            matrix[i][j], matrix[j][i] = matrix[j][i], matrix[i][j]\n",
    "\n",
    "    # Step 2: Reverse each row\n",
    "    for i in range(N):\n",
    "        for j in range(M // 2):\n",
    "            matrix[i][j], matrix[i][M - 1 - j] = matrix[i][M - 1 - j], matrix[i][j]\n",
    "\n",
    "# Example usage:\n",
    "matrix = [\n",
    "    [1, 2, 3],\n",
    "    [4, 5, 6],\n",
    "    [7, 8, 9]\n",
    "]\n",
    "\n",
    "rotate_matrix(matrix)\n",
    "\n",
    "for row in matrix:\n",
    "    print(row)\n"
   ]
  },
  {
   "cell_type": "markdown",
   "metadata": {},
   "source": [
    "# 1.8 Zero Matrix\n",
    "**Write an algorithm such that if an element in an MxN matrix is 0, its entire row and column are set to 0.**"
   ]
  },
  {
   "cell_type": "code",
   "execution_count": null,
   "metadata": {},
   "outputs": [],
   "source": [
    "rows = int(input())\n",
    "columns = int(input())\n",
    "\n",
    "#let us assume that the input is in the form of x, y\n",
    "element_x = int(input()) \n",
    "element_y = int(input())\n",
    "\n",
    "print(f\"rows: {rows}, columns: {columns}, element_x: {element_x}, element_y: {element_y}\")\n",
    "\n",
    "\n",
    "#Input validation\n",
    "if element_x > rows or element_y > columns:\n",
    "    print(\"Invalid Input\")\n",
    "else:\n",
    "    matrix = [[\".\" for _ in range(columns)] for i in range(rows)]\n",
    "\n",
    "    print(matrix)\n",
    "\n",
    "    #for better representation I am representing it in a different way but the core logic remains the same\n",
    "\n",
    "    for i in range(columns):\n",
    "        matrix[i][element_y] = \"|\"\n",
    "    \n",
    "    for j in range(rows):\n",
    "        matrix[element_x][j] = \"-\"\n",
    "    \n",
    "    matrix[element_x][element_y] = \"+\" \n",
    "\n",
    "    for row in matrix:\n",
    "        print(''.join(map(str, row)))\n"
   ]
  },
  {
   "cell_type": "markdown",
   "metadata": {},
   "source": [
    "# 1.9 String Rotation\n",
    "**Assume you have a method isSubstring which checks if one word is a substring of another. Given two strings, s1 and s2, write a code to check if s2 is a rotation of s using only one call to isSubstring(eg., \"waterbottle\" is a rotation of \"erbottlewat\").**"
   ]
  },
  {
   "cell_type": "code",
   "execution_count": null,
   "metadata": {},
   "outputs": [],
   "source": [
    "a = input() #String\n",
    "b = input() #Substring\n",
    "\n",
    "if b in a:\n",
    "    print(\"True\")\n",
    "else:\n",
    "    print(\"False\")\n"
   ]
  }
 ],
 "metadata": {
  "kernelspec": {
   "display_name": "Python 3 (ipykernel)",
   "language": "python",
   "name": "python3"
  },
  "language_info": {
   "codemirror_mode": {
    "name": "ipython",
    "version": 3
   },
   "file_extension": ".py",
   "mimetype": "text/x-python",
   "name": "python",
   "nbconvert_exporter": "python",
   "pygments_lexer": "ipython3",
   "version": "3.12.2"
  }
 },
 "nbformat": 4,
 "nbformat_minor": 2
}
