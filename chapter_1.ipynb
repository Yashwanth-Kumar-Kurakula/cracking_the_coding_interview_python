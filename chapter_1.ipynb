{
 "cells": [
  {
   "cell_type": "markdown",
   "metadata": {},
   "source": [
    "# 1.1 Is Unique\n",
    "**Implement an algorithm to determine if a string has all unique characters.**"
   ]
  },
  {
   "cell_type": "code",
   "execution_count": null,
   "metadata": {},
   "outputs": [],
   "source": [
    "word = [letter for letter in input()]\n",
    "word_set = set(word)\n",
    "\n",
    "if len(word) == len(word_set):\n",
    "    print(\"True\")\n",
    "else:\n",
    "    print(\"False\")"
   ]
  },
  {
   "cell_type": "markdown",
   "metadata": {},
   "source": [
    "# 1.2 Check Permutation\n",
    "**Given two strings, write a method to decide if one is a permutation of the other**"
   ]
  },
  {
   "cell_type": "code",
   "execution_count": null,
   "metadata": {},
   "outputs": [],
   "source": [
    "def permutation(a:str, b: str) -> bool:\n",
    "    temp = [0] * 128\n",
    "\n",
    "    for char in a:\n",
    "        temp[ord(char)] += 1\n",
    "\n",
    "    for char in b:\n",
    "        temp[ord(char)] -= 1\n",
    "        if temp[ord(char)] < 0:\n",
    "            return False\n",
    "\n",
    "    return True\n",
    "\n",
    "a = input()\n",
    "b = input()\n",
    "print(permutation(a,b))\n",
    "\n",
    "\n",
    "        "
   ]
  },
  {
   "cell_type": "markdown",
   "metadata": {},
   "source": [
    "# 1.3 URLify\n",
    "**Write a method to replace all spaces in a string with '%20'. You may assume that the string has sufficient space at the end to hold the addiional characters, and that you are given the \"true\" length of the string.**\n",
    "\n",
    "EXAMPLE:\\\n",
    "Input: \"Mr John Smith&nbsp;&nbsp;&nbsp;&nbsp;&nbsp;&nbsp;&nbsp;&nbsp;&nbsp;&nbsp;&nbsp;&nbsp;\"\\\n",
    "Output: \"Mr%20John%20Smith\"\n"
   ]
  },
  {
   "cell_type": "code",
   "execution_count": null,
   "metadata": {},
   "outputs": [],
   "source": [
    "x = input().strip().split()\n",
    "print(\"%20\".join(x))"
   ]
  },
  {
   "cell_type": "markdown",
   "metadata": {},
   "source": [
    "# 1.4 Palindrome Permutation\n",
    "**Given a string, write a function to check if it is a permutation of a palindrome. A Palindrome is a word or phrase that is the same forwards and backwards. A permuttion is a rearrangement of letters. The Palindrome does not need to be limited to just a dictionary words.**\n",
    "\n",
    "EXAMPLE:\\\n",
    "Tact Coa is a palindrome of taco cat"
   ]
  },
  {
   "cell_type": "code",
   "execution_count": 4,
   "metadata": {},
   "outputs": [
    {
     "name": "stdout",
     "output_type": "stream",
     "text": [
      "It is a Permutation of a palindrome\n"
     ]
    }
   ],
   "source": [
    "#Remove spaces and convert to lowercase\n",
    "x = \"\".join([i.lower() for i in input().strip() if i.isalnum()])\n",
    "\n",
    "char_count = {}\n",
    "odd_count = 0\n",
    "\n",
    "for char in x:\n",
    "    char_count[char] = char_count.get(char, 0) + 1\n",
    "\n",
    "for count in char_count.values():\n",
    "    if count%2!=0:\n",
    "        odd_count += 1\n",
    "\n",
    "#A Palindrome permutation can have at most one character with odd count\n",
    "if odd_count <= 1:\n",
    "    print(\"It is a Permutation of a palindrome\")\n",
    "else:\n",
    "    print(\"It is not a palindrome permutation\")"
   ]
  },
  {
   "cell_type": "markdown",
   "metadata": {},
   "source": [
    "# 1.5 One Away\n",
    "**There are three types of edits that can be performed on strings: insert a character, remove a character, or replace a character. Given two strings, write a function to check if they are one edit (or zero edits) away.**\n",
    "\n",
    "EXAMPLE\\\n",
    "pale, ple -> True\\\n",
    "pales, pale -> True\\\n",
    "pale, bale -> True\\\n",
    "pale, bake -> False\n"
   ]
  },
  {
   "cell_type": "code",
   "execution_count": 17,
   "metadata": {},
   "outputs": [
    {
     "name": "stdout",
     "output_type": "stream",
     "text": [
      "False\n"
     ]
    }
   ],
   "source": [
    "a = [i.lower() for i in input() if i.isalnum()]\n",
    "b = [j.lower() for j in input() if j.isalnum()]\n",
    "\n",
    "temp = set(a).difference(set(b))\n",
    "\n",
    "if len(temp) < 2:\n",
    "    print(\"True\")\n",
    "else:\n",
    "    print(\"False\")\n"
   ]
  },
  {
   "cell_type": "markdown",
   "metadata": {},
   "source": [
    "# 1.6 String Compression\n",
    "**Implement a method to perform basic string compression using the counts of repeated characters. For example, the string aabcccccaaa would become a2b1c5a3. If the \"compressed\" string would not become smaller than the original string, your method should return the original string. You can assume the string has only uppercase and lowercase letters.**\n"
   ]
  },
  {
   "cell_type": "code",
   "execution_count": 2,
   "metadata": {},
   "outputs": [
    {
     "name": "stdout",
     "output_type": "stream",
     "text": [
      "a3b1c5a\n"
     ]
    }
   ],
   "source": [
    "#Still in Development\n",
    "word = input()\n",
    "o = \"\"\n",
    "temp = 0\n",
    "\n",
    "for i in range(len(word)):\n",
    "    if o == \"\":\n",
    "        o += word[i]\n",
    "        temp+= 1\n",
    "    if o[-1] == word[i]:\n",
    "        temp += 1\n",
    "    if o[-1] != word[i]:\n",
    "        o+= str(temp)\n",
    "        temp=0\n",
    "        o+= word[i]\n",
    "        temp += 1\n",
    "    if i == len(word):\n",
    "        o+= str(temp)\n",
    "    \n",
    "\n",
    "print(o)"
   ]
  },
  {
   "cell_type": "code",
   "execution_count": null,
   "metadata": {},
   "outputs": [],
   "source": []
  }
 ],
 "metadata": {
  "kernelspec": {
   "display_name": "Python 3 (ipykernel)",
   "language": "python",
   "name": "python3"
  },
  "language_info": {
   "codemirror_mode": {
    "name": "ipython",
    "version": 3
   },
   "file_extension": ".py",
   "mimetype": "text/x-python",
   "name": "python",
   "nbconvert_exporter": "python",
   "pygments_lexer": "ipython3",
   "version": "3.12.2"
  }
 },
 "nbformat": 4,
 "nbformat_minor": 2
}
