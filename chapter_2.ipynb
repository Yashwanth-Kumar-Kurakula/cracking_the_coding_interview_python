{
 "cells": [
  {
   "cell_type": "markdown",
   "metadata": {},
   "source": [
    "# _Chapter 2:_ __Linked Lists__"
   ]
  },
  {
   "cell_type": "markdown",
   "metadata": {},
   "source": [
    "## 2.1 Remove Dups\n",
    "**Write code to remove duplicates from an unsorted linked list.**"
   ]
  },
  {
   "cell_type": "code",
   "execution_count": null,
   "metadata": {},
   "outputs": [],
   "source": []
  },
  {
   "cell_type": "markdown",
   "metadata": {},
   "source": [
    "## 2.2 Return Kth to Last\n",
    "**Implement an algorithm to find the kth to last element of a singly linked list.**"
   ]
  },
  {
   "cell_type": "code",
   "execution_count": null,
   "metadata": {},
   "outputs": [],
   "source": []
  },
  {
   "cell_type": "markdown",
   "metadata": {},
   "source": [
    "## 2.3 Delete Middle Node\n",
    "**Implement an algorithm to delete a node in the middle (i.e., any node but the first and last node, not necessarily the exact middle) of a singly linked list, given only access to that node.**\n",
    "\n",
    "EXAMPLE:\\\n",
    "Input: The node c from the linked list a->b->c->d->e->f \\\n",
    "Output: nothing is returned, but the new linked list looks like a->b->d->e->f\n"
   ]
  },
  {
   "cell_type": "code",
   "execution_count": null,
   "metadata": {},
   "outputs": [],
   "source": []
  },
  {
   "cell_type": "markdown",
   "metadata": {},
   "source": [
    "## 2.4 Partition\n",
    "**Write code to partition a linked list around a value x, such that all nodes less than x come before all nodes greater than or equal to x. If x is contained within the list, the values of x only need to be after the elements less than x (see below). The partition element x can appear anywhere in the \"right partition\"; it does not need to appear between the left and right partitions.**\n",
    "\n",
    "EXAMPLE:\\\n",
    "Input: 3 -> 5 -> 8 -> 5 -> 10 -> 2 -> 1 [partition = 5] \\\n",
    "Output: 3 -> 1 -> 2 -> 10 -> 5 -> 5 -> 8"
   ]
  },
  {
   "cell_type": "code",
   "execution_count": null,
   "metadata": {},
   "outputs": [],
   "source": []
  },
  {
   "cell_type": "markdown",
   "metadata": {},
   "source": [
    "## 2.5 Sum Lists\n",
    "**You have two numbers represented by a linked list, where each node contains a single digit. the digits are stored in _reverse_ order, such that the 1's digit is at th head of the list. Write a function that adds the two numbers and returns the sum as a linked list**\n",
    "\n",
    "EXAMPLE\\\n",
    "Input: (7-> 1 -> 6) + (5 -> 9 -> 2). That is, 617 + 295. \\\n",
    "Output: 2 -> 1 ->  9. That is, 912. \\\n",
    "\\\n",
    "FOLLOW UP \\\n",
    "Suppose the digits are stored in forward order. Repeat the above problem. \\\n",
    "Input: (6-> 1 -> 7) + (2 -> 9 -> 5). That is, 617 + 295. \\\n",
    "Output: 9 -> 1 ->  1. That is, 912. \n"
   ]
  },
  {
   "cell_type": "code",
   "execution_count": null,
   "metadata": {},
   "outputs": [],
   "source": []
  },
  {
   "cell_type": "markdown",
   "metadata": {},
   "source": [
    "## 2.6 Palindrome\n",
    "**Implement a function to check if a linked list is a palindrome.**\n"
   ]
  },
  {
   "cell_type": "code",
   "execution_count": null,
   "metadata": {},
   "outputs": [],
   "source": []
  },
  {
   "cell_type": "markdown",
   "metadata": {},
   "source": [
    "## 2.7 Intersection\n",
    "**Given two (singly) linked lists, determine if the two lists intersect. Return the intersecting node. Note that the intersection is defined based on reference, not value. That is, if the kth node of the first linked list is the exact same node (by reference) as the jth node of the second linked list, then they are intersecting.**"
   ]
  },
  {
   "cell_type": "code",
   "execution_count": null,
   "metadata": {},
   "outputs": [],
   "source": []
  },
  {
   "cell_type": "markdown",
   "metadata": {},
   "source": [
    "## 2.8 Loop Detection\n",
    "**Given a circular linked list in which a node's next pointer points to an earlier node, so as to make a loop in the linked list.**\n",
    "\n",
    "EXAMPLE\\\n",
    "Input: A -> B -> C -> D -> E -> C [the same C as earlier] \\\n",
    "Output: C "
   ]
  },
  {
   "cell_type": "code",
   "execution_count": null,
   "metadata": {},
   "outputs": [],
   "source": []
  }
 ],
 "metadata": {
  "kernelspec": {
   "display_name": "Python 3 (ipykernel)",
   "language": "python",
   "name": "python3"
  },
  "language_info": {
   "codemirror_mode": {
    "name": "ipython",
    "version": 3
   },
   "file_extension": ".py",
   "mimetype": "text/x-python",
   "name": "python",
   "nbconvert_exporter": "python",
   "pygments_lexer": "ipython3",
   "version": "3.9.19"
  }
 },
 "nbformat": 4,
 "nbformat_minor": 4
}
